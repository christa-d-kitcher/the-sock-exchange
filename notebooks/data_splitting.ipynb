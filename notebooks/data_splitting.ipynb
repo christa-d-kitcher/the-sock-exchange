{
 "cells": [
  {
   "cell_type": "code",
   "execution_count": 1,
   "metadata": {},
   "outputs": [
    {
     "name": "stdout",
     "output_type": "stream",
     "text": [
      "Defaulting to user installation because normal site-packages is not writeable\n",
      "Collecting scikit-learn\n",
      "  Downloading scikit_learn-1.7.0-cp312-cp312-win_amd64.whl.metadata (14 kB)\n",
      "Requirement already satisfied: numpy>=1.22.0 in c:\\users\\wasadmin\\appdata\\roaming\\python\\python312\\site-packages (from scikit-learn) (1.26.4)\n",
      "Collecting scipy>=1.8.0 (from scikit-learn)\n",
      "  Downloading scipy-1.16.0-cp312-cp312-win_amd64.whl.metadata (60 kB)\n",
      "     ---------------------------------------- 0.0/60.8 kB ? eta -:--:--\n",
      "     ------ --------------------------------- 10.2/60.8 kB ? eta -:--:--\n",
      "     ------ --------------------------------- 10.2/60.8 kB ? eta -:--:--\n",
      "     ------ --------------------------------- 10.2/60.8 kB ? eta -:--:--\n",
      "     ------------------- ------------------ 30.7/60.8 kB 163.8 kB/s eta 0:00:01\n",
      "     ------------------------- ------------ 41.0/60.8 kB 196.9 kB/s eta 0:00:01\n",
      "     -------------------------------------- 60.8/60.8 kB 230.7 kB/s eta 0:00:00\n",
      "Collecting joblib>=1.2.0 (from scikit-learn)\n",
      "  Downloading joblib-1.5.1-py3-none-any.whl.metadata (5.6 kB)\n",
      "Collecting threadpoolctl>=3.1.0 (from scikit-learn)\n",
      "  Downloading threadpoolctl-3.6.0-py3-none-any.whl.metadata (13 kB)\n",
      "Downloading scikit_learn-1.7.0-cp312-cp312-win_amd64.whl (10.7 MB)\n",
      "   ---------------------------------------- 0.0/10.7 MB ? eta -:--:--\n",
      "   ---------------------------------------- 0.1/10.7 MB 1.6 MB/s eta 0:00:07\n",
      "    --------------------------------------- 0.2/10.7 MB 2.5 MB/s eta 0:00:05\n",
      "   ------------- -------------------------- 3.6/10.7 MB 28.8 MB/s eta 0:00:01\n",
      "   --------------------------- ------------ 7.4/10.7 MB 47.1 MB/s eta 0:00:01\n",
      "   ---------------------------------------  10.7/10.7 MB 108.8 MB/s eta 0:00:01\n",
      "   ---------------------------------------  10.7/10.7 MB 108.8 MB/s eta 0:00:01\n",
      "   ---------------------------------------- 10.7/10.7 MB 65.6 MB/s eta 0:00:00\n",
      "Downloading joblib-1.5.1-py3-none-any.whl (307 kB)\n",
      "   ---------------------------------------- 0.0/307.7 kB ? eta -:--:--\n",
      "   ---------------------------------------- 307.7/307.7 kB 9.6 MB/s eta 0:00:00\n",
      "Downloading scipy-1.16.0-cp312-cp312-win_amd64.whl (38.4 MB)\n",
      "   ---------------------------------------- 0.0/38.4 MB ? eta -:--:--\n",
      "   -- ------------------------------------- 2.3/38.4 MB 73.0 MB/s eta 0:00:01\n",
      "   ------ --------------------------------- 6.5/38.4 MB 83.6 MB/s eta 0:00:01\n",
      "   ---------- ----------------------------- 10.0/38.4 MB 91.7 MB/s eta 0:00:01\n",
      "   ------------ --------------------------- 11.7/38.4 MB 73.1 MB/s eta 0:00:01\n",
      "   -------------- ------------------------- 14.3/38.4 MB 81.8 MB/s eta 0:00:01\n",
      "   ----------------- ---------------------- 16.5/38.4 MB 59.5 MB/s eta 0:00:01\n",
      "   ------------------- -------------------- 18.7/38.4 MB 54.7 MB/s eta 0:00:01\n",
      "   ---------------------- ----------------- 22.1/38.4 MB 59.5 MB/s eta 0:00:01\n",
      "   ------------------------- -------------- 24.9/38.4 MB 59.5 MB/s eta 0:00:01\n",
      "   ---------------------------- ----------- 27.3/38.4 MB 65.6 MB/s eta 0:00:01\n",
      "   ------------------------------- -------- 30.4/38.4 MB 72.6 MB/s eta 0:00:01\n",
      "   ------------------------------------ --- 34.6/38.4 MB 72.6 MB/s eta 0:00:01\n",
      "   ---------------------------------------  38.0/38.4 MB 108.8 MB/s eta 0:00:01\n",
      "   ---------------------------------------  38.4/38.4 MB 93.0 MB/s eta 0:00:01\n",
      "   ---------------------------------------  38.4/38.4 MB 93.0 MB/s eta 0:00:01\n",
      "   ---------------------------------------  38.4/38.4 MB 93.0 MB/s eta 0:00:01\n",
      "   ---------------------------------------  38.4/38.4 MB 93.0 MB/s eta 0:00:01\n",
      "   ---------------------------------------  38.4/38.4 MB 93.0 MB/s eta 0:00:01\n",
      "   ---------------------------------------  38.4/38.4 MB 93.0 MB/s eta 0:00:01\n",
      "   ---------------------------------------  38.4/38.4 MB 93.0 MB/s eta 0:00:01\n",
      "   ---------------------------------------  38.4/38.4 MB 93.0 MB/s eta 0:00:01\n",
      "   ---------------------------------------  38.4/38.4 MB 93.0 MB/s eta 0:00:01\n",
      "   ---------------------------------------- 38.4/38.4 MB 21.1 MB/s eta 0:00:00\n",
      "Downloading threadpoolctl-3.6.0-py3-none-any.whl (18 kB)\n",
      "Installing collected packages: threadpoolctl, scipy, joblib, scikit-learn\n",
      "Successfully installed joblib-1.5.1 scikit-learn-1.7.0 scipy-1.16.0 threadpoolctl-3.6.0\n"
     ]
    },
    {
     "name": "stderr",
     "output_type": "stream",
     "text": [
      "\n",
      "[notice] A new release of pip is available: 24.0 -> 25.1.1\n",
      "[notice] To update, run: python.exe -m pip install --upgrade pip\n"
     ]
    }
   ],
   "source": [
    "! pip install scikit-learn"
   ]
  },
  {
   "cell_type": "code",
   "execution_count": 2,
   "metadata": {},
   "outputs": [
    {
     "name": "stdout",
     "output_type": "stream",
     "text": [
      "ShuffleSplit:\n",
      "X_train shape: (80000, 5)\n",
      "X_test shape: (20000, 5)\n",
      "y_train shape: (80000,)\n",
      "y_test shape: (20000,)\n"
     ]
    }
   ],
   "source": [
    "import pandas as pd\n",
    "from sklearn.model_selection import ShuffleSplit\n",
    "\n",
    "# Load the dataset\n",
    "data = pd.read_csv('customers.csv')\n",
    "\n",
    "# Define the features and target variable\n",
    "X = data.drop(columns=['Frequent_Losers'])  # Features\n",
    "y = data['Frequent_Losers']  # Target variable\n",
    "\n",
    "# Initialize ShuffleSplit\n",
    "shuffle_split = ShuffleSplit(n_splits=1, test_size=0.2, random_state=42)\n",
    "\n",
    "# Split the data\n",
    "for train_index, test_index in shuffle_split.split(X):\n",
    "    X_train, X_test = X.iloc[train_index], X.iloc[test_index]\n",
    "    y_train, y_test = y.iloc[train_index], y.iloc[test_index]\n",
    "\n",
    "# Print the shapes of train and test sets\n",
    "print(\"ShuffleSplit:\")\n",
    "print(\"X_train shape:\", X_train.shape)\n",
    "print(\"X_test shape:\", X_test.shape)\n",
    "print(\"y_train shape:\", y_train.shape)\n",
    "print(\"y_test shape:\", y_test.shape)"
   ]
  },
  {
   "cell_type": "code",
   "execution_count": 3,
   "metadata": {},
   "outputs": [
    {
     "name": "stdout",
     "output_type": "stream",
     "text": [
      "train_test_split:\n",
      "X_train shape: (80000, 5)\n",
      "X_test shape: (20000, 5)\n",
      "y_train shape: (80000,)\n",
      "y_test shape: (20000,)\n"
     ]
    }
   ],
   "source": [
    "from sklearn.model_selection import train_test_split\n",
    "\n",
    "# Load the dataset\n",
    "data = pd.read_csv('customers.csv')\n",
    "\n",
    "# Define the features and target variable\n",
    "X = data.drop(columns=['Frequent_Losers'])  # Features\n",
    "y = data['Frequent_Losers']  # Target variable\n",
    "\n",
    "# Split the data using train_test_split\n",
    "X_train, X_test, y_train, y_test = train_test_split(X, y, test_size=0.2, random_state=42)\n",
    "\n",
    "# Print the shapes of train and test sets\n",
    "print(\"train_test_split:\")\n",
    "print(\"X_train shape:\", X_train.shape)\n",
    "print(\"X_test shape:\", X_test.shape)\n",
    "print(\"y_train shape:\", y_train.shape)\n",
    "print(\"y_test shape:\", y_test.shape)"
   ]
  },
  {
   "cell_type": "code",
   "execution_count": null,
   "metadata": {},
   "outputs": [],
   "source": []
  }
 ],
 "metadata": {
  "kernelspec": {
   "display_name": "Python 3",
   "language": "python",
   "name": "python3"
  },
  "language_info": {
   "codemirror_mode": {
    "name": "ipython",
    "version": 3
   },
   "file_extension": ".py",
   "mimetype": "text/x-python",
   "name": "python",
   "nbconvert_exporter": "python",
   "pygments_lexer": "ipython3",
   "version": "3.12.3"
  }
 },
 "nbformat": 4,
 "nbformat_minor": 2
}
